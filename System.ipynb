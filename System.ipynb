{
 "cells": [
  {
   "cell_type": "markdown",
   "metadata": {},
   "source": [
    "Image preprocessing"
   ]
  },
  {
   "cell_type": "code",
   "execution_count": 99,
   "metadata": {},
   "outputs": [],
   "source": [
    "import numpy as np\n",
    "import cv2 as cv\n",
    "import imutils\n",
    "import tensorflow as tf\n",
    "import os\n",
    "from keras.preprocessing.image import img_to_array\n",
    "from imutils import paths\n",
    "from sklearn.preprocessing import LabelBinarizer\n",
    "from keras.utils import to_categorical\n",
    "from keras.preprocessing.image import ImageDataGenerator\n",
    "import warnings\n",
    "\n",
    "warnings.filterwarnings(\"ignore\")\n",
    "\n",
    "data = []\n",
    "labels = []\n",
    "\n",
    "datagen = ImageDataGenerator (\n",
    "    rotation_range = 20,\n",
    "    width_shift_range = 0.2,\n",
    "    height_shift_range = 0.2,\n",
    "    shear_range = 0.2,\n",
    "    zoom_range = 0.2,\n",
    "    horizontal_flip = True,\n",
    "    fill_mode = 'nearest'\n",
    ")\n",
    "\n",
    "imagePaths = sorted(list(paths.list_images('./data/train/')))\n",
    "for imagePath in imagePaths:\n",
    "    image = cv.imread(imagePath)\n",
    "    image = cv.resize(image, (224,224))\n",
    "    image = img_to_array(image)\n",
    "    data.append(image)\n",
    "    label = imagePath.split(os.path.sep)\n",
    "    labels.append(label)\n",
    "\n",
    "data = np.array(data, dtype = \"float\") / 255.0\n",
    "labels = np.array(labels, dtype = \"str\")\n",
    "datagen.fit(data)\n",
    "\n",
    "mlb = LabelBinarizer()\n",
    "labels = mlb.fit_transform(labels)"
   ]
  },
  {
   "cell_type": "markdown",
   "metadata": {},
   "source": [
    "Convolutional Neural Network implementation"
   ]
  },
  {
   "cell_type": "code",
   "execution_count": 100,
   "metadata": {},
   "outputs": [
    {
     "name": "stdout",
     "output_type": "stream",
     "text": [
      "Model: \"sequential_27\"\n",
      "_________________________________________________________________\n",
      " Layer (type)                Output Shape              Param #   \n",
      "=================================================================\n",
      " conv2d_91 (Conv2D)          (None, 222, 222, 32)      896       \n",
      "                                                                 \n",
      " max_pooling2d_91 (MaxPooli  (None, 111, 111, 32)      0         \n",
      " ng2D)                                                           \n",
      "                                                                 \n",
      " conv2d_92 (Conv2D)          (None, 109, 109, 64)      18496     \n",
      "                                                                 \n",
      " max_pooling2d_92 (MaxPooli  (None, 54, 54, 64)        0         \n",
      " ng2D)                                                           \n",
      "                                                                 \n",
      " conv2d_93 (Conv2D)          (None, 52, 52, 128)       73856     \n",
      "                                                                 \n",
      " max_pooling2d_93 (MaxPooli  (None, 26, 26, 128)       0         \n",
      " ng2D)                                                           \n",
      "                                                                 \n",
      " conv2d_94 (Conv2D)          (None, 24, 24, 256)       295168    \n",
      "                                                                 \n",
      " max_pooling2d_94 (MaxPooli  (None, 12, 12, 256)       0         \n",
      " ng2D)                                                           \n",
      "                                                                 \n",
      " flatten_27 (Flatten)        (None, 36864)             0         \n",
      "                                                                 \n",
      " dense_69 (Dense)            (None, 128)               4718720   \n",
      "                                                                 \n",
      " dropout_27 (Dropout)        (None, 128)               0         \n",
      "                                                                 \n",
      " dense_70 (Dense)            (None, 12)                1548      \n",
      "                                                                 \n",
      "=================================================================\n",
      "Total params: 5108684 (19.49 MB)\n",
      "Trainable params: 5108684 (19.49 MB)\n",
      "Non-trainable params: 0 (0.00 Byte)\n",
      "_________________________________________________________________\n"
     ]
    }
   ],
   "source": [
    "from keras.models import Sequential, load_model\n",
    "from keras.layers import Dense, Dropout, Flatten, Conv2D, MaxPooling2D, GlobalAveragePooling2D\n",
    "\n",
    "model = Sequential()\n",
    "\n",
    "model.add(Conv2D(32, (3, 3), input_shape = (224, 224, 3), activation = 'relu'))\n",
    "model.add(MaxPooling2D(pool_size = (2,2)))\n",
    "\n",
    "model.add(Conv2D(64, (3,3), activation = 'relu'))\n",
    "model.add(MaxPooling2D(pool_size = (2,2)))\n",
    "\n",
    "model.add(Conv2D(128, (3,3), activation = 'relu'))\n",
    "model.add(MaxPooling2D(pool_size = (2,2)))\n",
    "\n",
    "model.add(Conv2D(256, (3,3), activation = 'relu'))\n",
    "model.add(MaxPooling2D(pool_size = (2,2)))\n",
    "\n",
    "model.add(Flatten())\n",
    "\n",
    "model.add(Dense(128, activation = 'relu'))\n",
    "model.add(Dropout(0.5))\n",
    "model.add(Dense(12, activation = 'softmax'))\n",
    "\n",
    "model.compile(optimizer = 'adam', loss = 'categorical_crossentropy', metrics=['accuracy'])\n",
    "\n",
    "model.summary()"
   ]
  },
  {
   "cell_type": "code",
   "execution_count": 101,
   "metadata": {},
   "outputs": [
    {
     "name": "stdout",
     "output_type": "stream",
     "text": [
      "Epoch 1/20\n",
      "1/1 [==============================] - 2s 2s/step - loss: 2.4680 - accuracy: 0.0833\n",
      "Epoch 2/20\n",
      "1/1 [==============================] - 0s 429ms/step - loss: 4.3671 - accuracy: 0.0833\n",
      "Epoch 3/20\n",
      "1/1 [==============================] - 0s 431ms/step - loss: 2.9401 - accuracy: 0.0833\n",
      "Epoch 4/20\n",
      "1/1 [==============================] - 0s 446ms/step - loss: 2.6216 - accuracy: 0.0833\n",
      "Epoch 5/20\n",
      "1/1 [==============================] - 0s 422ms/step - loss: 2.4966 - accuracy: 0.0833\n",
      "Epoch 6/20\n",
      "1/1 [==============================] - 0s 405ms/step - loss: 2.5146 - accuracy: 0.0000e+00\n",
      "Epoch 7/20\n",
      "1/1 [==============================] - 0s 446ms/step - loss: 2.4886 - accuracy: 0.2500\n",
      "Epoch 8/20\n",
      "1/1 [==============================] - 0s 454ms/step - loss: 2.4874 - accuracy: 0.0000e+00\n",
      "Epoch 9/20\n",
      "1/1 [==============================] - 0s 413ms/step - loss: 2.4740 - accuracy: 0.0833\n",
      "Epoch 10/20\n",
      "1/1 [==============================] - 0s 444ms/step - loss: 2.4271 - accuracy: 0.0833\n",
      "Epoch 11/20\n",
      "1/1 [==============================] - 0s 493ms/step - loss: 2.4852 - accuracy: 0.2500\n",
      "Epoch 12/20\n",
      "1/1 [==============================] - 0s 486ms/step - loss: 2.5573 - accuracy: 0.0000e+00\n",
      "Epoch 13/20\n",
      "1/1 [==============================] - 0s 429ms/step - loss: 2.5309 - accuracy: 0.0833\n",
      "Epoch 14/20\n",
      "1/1 [==============================] - 0s 462ms/step - loss: 2.4954 - accuracy: 0.0833\n",
      "Epoch 15/20\n",
      "1/1 [==============================] - 0s 422ms/step - loss: 2.4553 - accuracy: 0.1667\n",
      "Epoch 16/20\n",
      "1/1 [==============================] - 0s 434ms/step - loss: 2.4647 - accuracy: 0.2500\n",
      "Epoch 17/20\n",
      "1/1 [==============================] - 0s 429ms/step - loss: 2.4742 - accuracy: 0.0000e+00\n",
      "Epoch 18/20\n",
      "1/1 [==============================] - 0s 388ms/step - loss: 2.3777 - accuracy: 0.2500\n",
      "Epoch 19/20\n",
      "1/1 [==============================] - 0s 421ms/step - loss: 2.4756 - accuracy: 0.2500\n",
      "Epoch 20/20\n",
      "1/1 [==============================] - 0s 423ms/step - loss: 2.4869 - accuracy: 0.0833\n"
     ]
    },
    {
     "data": {
      "text/plain": [
       "<keras.src.callbacks.History at 0x2d3851bbd90>"
      ]
     },
     "execution_count": 101,
     "metadata": {},
     "output_type": "execute_result"
    }
   ],
   "source": [
    "model.fit(datagen.flow(data, labels, batch_size=128), epochs = 20, verbose = 1)"
   ]
  }
 ],
 "metadata": {
  "kernelspec": {
   "display_name": "base",
   "language": "python",
   "name": "python3"
  },
  "language_info": {
   "codemirror_mode": {
    "name": "ipython",
    "version": 3
   },
   "file_extension": ".py",
   "mimetype": "text/x-python",
   "name": "python",
   "nbconvert_exporter": "python",
   "pygments_lexer": "ipython3",
   "version": "3.11.5"
  }
 },
 "nbformat": 4,
 "nbformat_minor": 2
}
