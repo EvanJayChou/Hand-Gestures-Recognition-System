{
 "cells": [
  {
   "cell_type": "markdown",
   "metadata": {},
   "source": [
    "Image preprocessing"
   ]
  },
  {
   "cell_type": "code",
   "execution_count": 93,
   "metadata": {},
   "outputs": [],
   "source": [
    "import numpy as np\n",
    "import cv2 as cv\n",
    "import imutils\n",
    "import tensorflow as tf\n",
    "import os\n",
    "from keras.preprocessing.image import img_to_array\n",
    "from imutils import paths\n",
    "from sklearn.preprocessing import LabelBinarizer\n",
    "from keras.utils import to_categorical\n",
    "from keras.preprocessing.image import ImageDataGenerator\n",
    "import warnings\n",
    "\n",
    "warnings.filterwarnings(\"ignore\")\n",
    "\n",
    "data = []\n",
    "labels = []\n",
    "\n",
    "datagen = ImageDataGenerator (\n",
    "    rotation_range = 20,\n",
    "    width_shift_range = 0.2,\n",
    "    height_shift_range = 0.2,\n",
    "    shear_range = 0.2,\n",
    "    zoom_range = 0.2,\n",
    "    horizontal_flip = True,\n",
    "    fill_mode = 'nearest'\n",
    ")\n",
    "\n",
    "imagePaths = sorted(list(paths.list_images('./data/train/')))\n",
    "for imagePath in imagePaths:\n",
    "    image = cv.imread(imagePath)\n",
    "    image = cv.resize(image, (224,224))\n",
    "    image = img_to_array(image)\n",
    "    data.append(image)\n",
    "    label = imagePath.split(os.path.sep)\n",
    "    labels.append(label)\n",
    "\n",
    "data = np.array(data, dtype = \"float\") / 255.0\n",
    "labels = np.array(labels, dtype = \"str\")\n",
    "datagen.fit(data)\n",
    "\n",
    "mlb = LabelBinarizer()\n",
    "labels = mlb.fit_transform(labels)"
   ]
  },
  {
   "cell_type": "markdown",
   "metadata": {},
   "source": [
    "Convolutional Neural Network implementation"
   ]
  },
  {
   "cell_type": "code",
   "execution_count": 94,
   "metadata": {},
   "outputs": [
    {
     "name": "stdout",
     "output_type": "stream",
     "text": [
      "Model: \"sequential_25\"\n",
      "_________________________________________________________________\n",
      " Layer (type)                Output Shape              Param #   \n",
      "=================================================================\n",
      " conv2d_84 (Conv2D)          (None, 222, 222, 32)      896       \n",
      "                                                                 \n",
      " max_pooling2d_84 (MaxPooli  (None, 111, 111, 32)      0         \n",
      " ng2D)                                                           \n",
      "                                                                 \n",
      " dense_64 (Dense)            (None, 111, 111, 512)     16896     \n",
      "                                                                 \n",
      " conv2d_85 (Conv2D)          (None, 109, 109, 64)      294976    \n",
      "                                                                 \n",
      " max_pooling2d_85 (MaxPooli  (None, 54, 54, 64)        0         \n",
      " ng2D)                                                           \n",
      "                                                                 \n",
      " dense_65 (Dense)            (None, 54, 54, 512)       33280     \n",
      "                                                                 \n",
      " conv2d_86 (Conv2D)          (None, 52, 52, 128)       589952    \n",
      "                                                                 \n",
      " max_pooling2d_86 (MaxPooli  (None, 26, 26, 128)       0         \n",
      " ng2D)                                                           \n",
      "                                                                 \n",
      " dense_66 (Dense)            (None, 26, 26, 512)       66048     \n",
      "                                                                 \n",
      " flatten_25 (Flatten)        (None, 346112)            0         \n",
      "                                                                 \n",
      " dense_67 (Dense)            (None, 12)                4153356   \n",
      "                                                                 \n",
      " dropout_25 (Dropout)        (None, 12)                0         \n",
      "                                                                 \n",
      "=================================================================\n",
      "Total params: 5155404 (19.67 MB)\n",
      "Trainable params: 5155404 (19.67 MB)\n",
      "Non-trainable params: 0 (0.00 Byte)\n",
      "_________________________________________________________________\n"
     ]
    }
   ],
   "source": [
    "from keras.models import Sequential, load_model\n",
    "from keras.layers import Dense, Dropout, Flatten, Conv2D, MaxPooling2D, GlobalAveragePooling2D\n",
    "\n",
    "model = Sequential()\n",
    "\n",
    "model.add(Conv2D(32, (3, 3), input_shape = (224, 224, 3), activation = 'relu'))\n",
    "model.add(MaxPooling2D(pool_size = (2,2)))\n",
    "model.add(Dense(512, activation = 'relu'))\n",
    "\n",
    "\n",
    "model.add(Conv2D(64, (3,3), activation = 'relu'))\n",
    "model.add(MaxPooling2D(pool_size = (2,2)))\n",
    "model.add(Dense(512, activation = 'relu'))\n",
    "\n",
    "model.add(Conv2D(128, (3,3), activation = 'relu'))\n",
    "model.add(MaxPooling2D(pool_size = (2,2)))\n",
    "model.add(Dense(512, activation = 'relu'))\n",
    "\n",
    "model.add(Flatten())\n",
    "\n",
    "model.add(Dense(12, activation = 'softmax'))\n",
    "model.add(Dropout(0.5))\n",
    "\n",
    "model.compile(optimizer = 'adam', loss = 'categorical_crossentropy', metrics=['accuracy'])\n",
    "\n",
    "model.summary()"
   ]
  },
  {
   "cell_type": "code",
   "execution_count": 95,
   "metadata": {},
   "outputs": [
    {
     "name": "stdout",
     "output_type": "stream",
     "text": [
      "Epoch 1/20\n",
      "1/1 [==============================] - 4s 4s/step - loss: 4.1740 - accuracy: 0.2500\n",
      "Epoch 2/20\n",
      "1/1 [==============================] - 2s 2s/step - loss: 14.3785 - accuracy: 0.0833\n",
      "Epoch 3/20\n",
      "1/1 [==============================] - 2s 2s/step - loss: 9.0677 - accuracy: 0.0833\n",
      "Epoch 4/20\n",
      "1/1 [==============================] - 2s 2s/step - loss: 10.1590 - accuracy: 0.1667\n",
      "Epoch 5/20\n",
      "1/1 [==============================] - 2s 2s/step - loss: 9.0095 - accuracy: 0.0833\n",
      "Epoch 6/20\n",
      "1/1 [==============================] - 2s 2s/step - loss: 8.9531 - accuracy: 0.2500\n",
      "Epoch 7/20\n",
      "1/1 [==============================] - 2s 2s/step - loss: 10.1433 - accuracy: 0.0833\n",
      "Epoch 8/20\n",
      "1/1 [==============================] - 2s 2s/step - loss: 7.7956 - accuracy: 0.1667\n",
      "Epoch 9/20\n",
      "1/1 [==============================] - 2s 2s/step - loss: 6.7202 - accuracy: 0.0833\n",
      "Epoch 10/20\n",
      "1/1 [==============================] - 2s 2s/step - loss: 9.0357 - accuracy: 0.0000e+00\n",
      "Epoch 11/20\n",
      "1/1 [==============================] - 2s 2s/step - loss: 11.4215 - accuracy: 0.0000e+00\n",
      "Epoch 12/20\n",
      "1/1 [==============================] - 2s 2s/step - loss: 9.9716 - accuracy: 0.0833\n",
      "Epoch 13/20\n",
      "1/1 [==============================] - 2s 2s/step - loss: 11.3603 - accuracy: 0.0000e+00\n",
      "Epoch 14/20\n",
      "1/1 [==============================] - 2s 2s/step - loss: 10.1385 - accuracy: 0.0833\n",
      "Epoch 15/20\n",
      "1/1 [==============================] - 2s 2s/step - loss: 12.5429 - accuracy: 0.1667\n",
      "Epoch 16/20\n",
      "1/1 [==============================] - 2s 2s/step - loss: 6.6596 - accuracy: 0.0833\n",
      "Epoch 17/20\n",
      "1/1 [==============================] - 1s 1s/step - loss: 7.9088 - accuracy: 0.1667\n",
      "Epoch 18/20\n",
      "1/1 [==============================] - 2s 2s/step - loss: 6.5979 - accuracy: 0.1667\n",
      "Epoch 19/20\n",
      "1/1 [==============================] - 2s 2s/step - loss: 8.9836 - accuracy: 0.0833\n",
      "Epoch 20/20\n",
      "1/1 [==============================] - 2s 2s/step - loss: 8.9919 - accuracy: 0.1667\n"
     ]
    },
    {
     "data": {
      "text/plain": [
       "<keras.src.callbacks.History at 0x2d3892a1410>"
      ]
     },
     "execution_count": 95,
     "metadata": {},
     "output_type": "execute_result"
    }
   ],
   "source": [
    "model.fit(datagen.flow(data, labels, batch_size=128), epochs = 20, verbose = 1)"
   ]
  }
 ],
 "metadata": {
  "kernelspec": {
   "display_name": "base",
   "language": "python",
   "name": "python3"
  },
  "language_info": {
   "codemirror_mode": {
    "name": "ipython",
    "version": 3
   },
   "file_extension": ".py",
   "mimetype": "text/x-python",
   "name": "python",
   "nbconvert_exporter": "python",
   "pygments_lexer": "ipython3",
   "version": "3.11.5"
  }
 },
 "nbformat": 4,
 "nbformat_minor": 2
}
